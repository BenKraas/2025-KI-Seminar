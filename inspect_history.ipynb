{
 "cells": [
  {
   "cell_type": "code",
   "execution_count": 29,
   "metadata": {},
   "outputs": [
    {
     "data": {
      "application/vnd.microsoft.datawrangler.viewer.v0+json": {
       "columns": [
        {
         "name": "index",
         "rawType": "int64",
         "type": "integer"
        },
        {
         "name": "loss",
         "rawType": "float64",
         "type": "float"
        },
        {
         "name": "mean_squared_error",
         "rawType": "float64",
         "type": "float"
        },
        {
         "name": "val_loss",
         "rawType": "float64",
         "type": "float"
        },
        {
         "name": "val_mean_squared_error",
         "rawType": "float64",
         "type": "float"
        }
       ],
       "conversionMethod": "pd.DataFrame",
       "ref": "92422db6-bb8f-4e8e-888e-77c78686b67b",
       "rows": [
        [
         "0",
         "1197.9303",
         "239.5861",
         "680.5645",
         "136.1129"
        ],
        [
         "1",
         "1083.3583",
         "216.6717",
         "796.6331",
         "159.3266"
        ],
        [
         "2",
         "1026.811",
         "205.3622",
         "830.0639",
         "166.0128"
        ],
        [
         "3",
         "996.2346",
         "199.2469",
         "859.606",
         "171.9212"
        ],
        [
         "4",
         "966.7678",
         "193.3535",
         "828.5682",
         "165.7136"
        ],
        [
         "5",
         "931.0059",
         "186.2011",
         "809.4063",
         "161.8813"
        ],
        [
         "6",
         "907.2128",
         "181.4426",
         "813.482",
         "162.6965"
        ],
        [
         "7",
         "883.4405",
         "176.6881",
         "823.5652",
         "164.7131"
        ],
        [
         "8",
         "857.11",
         "171.422",
         "815.9636",
         "163.1927"
        ],
        [
         "9",
         "821.1011",
         "164.2202",
         "814.8581",
         "162.9716"
        ],
        [
         "10",
         "793.4829",
         "158.6966",
         "792.5062",
         "158.5012"
        ],
        [
         "11",
         "775.2464",
         "155.0493",
         "765.9385",
         "153.1877"
        ],
        [
         "12",
         "750.4918",
         "150.0984",
         "738.7411",
         "147.7482"
        ],
        [
         "13",
         "714.8568",
         "142.9714",
         "711.0252",
         "142.2051"
        ],
        [
         "14",
         "695.0824",
         "139.0165",
         "691.3044",
         "138.2609"
        ],
        [
         "15",
         "663.8745",
         "132.7749",
         "662.8354",
         "132.567"
        ],
        [
         "16",
         "636.1313",
         "127.2263",
         "645.8758",
         "129.1752"
        ],
        [
         "17",
         "616.6432",
         "123.3286",
         "624.5724",
         "124.9145"
        ],
        [
         "18",
         "586.9655",
         "117.3931",
         "599.7667",
         "119.9534"
        ],
        [
         "19",
         "563.0767",
         "112.6153",
         "559.2629",
         "111.8526"
        ],
        [
         "20",
         "523.5146",
         "104.7029",
         "519.9233",
         "103.9847"
        ],
        [
         "21",
         "494.8571",
         "98.9714",
         "493.5598",
         "98.712"
        ],
        [
         "22",
         "460.0061",
         "92.0012",
         "472.002",
         "94.4004"
        ],
        [
         "23",
         "431.3241",
         "86.2648",
         "438.2825",
         "87.6565"
        ],
        [
         "24",
         "404.6713",
         "80.9343",
         "397.0692",
         "79.4139"
        ],
        [
         "25",
         "372.5179",
         "74.5036",
         "402.7855",
         "80.5571"
        ],
        [
         "26",
         "348.5535",
         "69.7107",
         "371.5104",
         "74.3021"
        ],
        [
         "27",
         "326.3417",
         "65.2683",
         "333.3826",
         "66.6765"
        ],
        [
         "28",
         "302.6272",
         "60.5254",
         "326.3095",
         "65.2619"
        ],
        [
         "29",
         "279.8459",
         "55.9692",
         "300.2545",
         "60.0509"
        ],
        [
         "30",
         "261.9517",
         "52.3903",
         "281.8976",
         "56.3795"
        ],
        [
         "31",
         "232.2537",
         "46.4507",
         "264.2491",
         "52.8498"
        ],
        [
         "32",
         "218.0997",
         "43.62",
         "240.4375",
         "48.0875"
        ],
        [
         "33",
         "197.4721",
         "39.4944",
         "230.8509",
         "46.1702"
        ],
        [
         "34",
         "185.3221",
         "37.0644",
         "183.8356",
         "36.7671"
        ],
        [
         "35",
         "161.6758",
         "32.3352",
         "172.84",
         "34.568"
        ],
        [
         "36",
         "148.6322",
         "29.7264",
         "162.6216",
         "32.5243"
        ],
        [
         "37",
         "128.3981",
         "25.6796",
         "153.5737",
         "30.7147"
        ],
        [
         "38",
         "113.5927",
         "22.7185",
         "135.5585",
         "27.1117"
        ],
        [
         "39",
         "102.0238",
         "20.4048",
         "113.668",
         "22.7336"
        ],
        [
         "40",
         "88.9465",
         "17.7893",
         "107.5874",
         "21.5175"
        ],
        [
         "41",
         "81.9967",
         "16.3993",
         "105.0875",
         "21.0175"
        ],
        [
         "42",
         "70.834",
         "14.1668",
         "96.0805",
         "19.2161"
        ],
        [
         "43",
         "62.3559",
         "12.4712",
         "87.4731",
         "17.4946"
        ],
        [
         "44",
         "54.3084",
         "10.8617",
         "65.4319",
         "13.0864"
        ],
        [
         "45",
         "49.9834",
         "9.9967",
         "63.1284",
         "12.6257"
        ],
        [
         "46",
         "44.3815",
         "8.8763",
         "62.8457",
         "12.5691"
        ],
        [
         "47",
         "39.1109",
         "7.8222",
         "52.3794",
         "10.4759"
        ],
        [
         "48",
         "34.7866",
         "6.9573",
         "44.1534",
         "8.8307"
        ],
        [
         "49",
         "29.928",
         "5.9856",
         "38.2565",
         "7.6513"
        ]
       ],
       "shape": {
        "columns": 4,
        "rows": 200
       }
      },
      "text/html": [
       "<div>\n",
       "<style scoped>\n",
       "    .dataframe tbody tr th:only-of-type {\n",
       "        vertical-align: middle;\n",
       "    }\n",
       "\n",
       "    .dataframe tbody tr th {\n",
       "        vertical-align: top;\n",
       "    }\n",
       "\n",
       "    .dataframe thead th {\n",
       "        text-align: right;\n",
       "    }\n",
       "</style>\n",
       "<table border=\"1\" class=\"dataframe\">\n",
       "  <thead>\n",
       "    <tr style=\"text-align: right;\">\n",
       "      <th></th>\n",
       "      <th>loss</th>\n",
       "      <th>mean_squared_error</th>\n",
       "      <th>val_loss</th>\n",
       "      <th>val_mean_squared_error</th>\n",
       "    </tr>\n",
       "  </thead>\n",
       "  <tbody>\n",
       "    <tr>\n",
       "      <th>0</th>\n",
       "      <td>1197.9303</td>\n",
       "      <td>239.5861</td>\n",
       "      <td>680.5645</td>\n",
       "      <td>136.1129</td>\n",
       "    </tr>\n",
       "    <tr>\n",
       "      <th>1</th>\n",
       "      <td>1083.3583</td>\n",
       "      <td>216.6717</td>\n",
       "      <td>796.6331</td>\n",
       "      <td>159.3266</td>\n",
       "    </tr>\n",
       "    <tr>\n",
       "      <th>2</th>\n",
       "      <td>1026.8110</td>\n",
       "      <td>205.3622</td>\n",
       "      <td>830.0639</td>\n",
       "      <td>166.0128</td>\n",
       "    </tr>\n",
       "    <tr>\n",
       "      <th>3</th>\n",
       "      <td>996.2346</td>\n",
       "      <td>199.2469</td>\n",
       "      <td>859.6060</td>\n",
       "      <td>171.9212</td>\n",
       "    </tr>\n",
       "    <tr>\n",
       "      <th>4</th>\n",
       "      <td>966.7678</td>\n",
       "      <td>193.3535</td>\n",
       "      <td>828.5682</td>\n",
       "      <td>165.7136</td>\n",
       "    </tr>\n",
       "    <tr>\n",
       "      <th>...</th>\n",
       "      <td>...</td>\n",
       "      <td>...</td>\n",
       "      <td>...</td>\n",
       "      <td>...</td>\n",
       "    </tr>\n",
       "    <tr>\n",
       "      <th>195</th>\n",
       "      <td>1.6390</td>\n",
       "      <td>0.3278</td>\n",
       "      <td>2.1377</td>\n",
       "      <td>0.4275</td>\n",
       "    </tr>\n",
       "    <tr>\n",
       "      <th>196</th>\n",
       "      <td>1.6043</td>\n",
       "      <td>0.3209</td>\n",
       "      <td>1.6392</td>\n",
       "      <td>0.3278</td>\n",
       "    </tr>\n",
       "    <tr>\n",
       "      <th>197</th>\n",
       "      <td>1.4607</td>\n",
       "      <td>0.2921</td>\n",
       "      <td>2.3751</td>\n",
       "      <td>0.4750</td>\n",
       "    </tr>\n",
       "    <tr>\n",
       "      <th>198</th>\n",
       "      <td>1.4640</td>\n",
       "      <td>0.2928</td>\n",
       "      <td>1.6385</td>\n",
       "      <td>0.3277</td>\n",
       "    </tr>\n",
       "    <tr>\n",
       "      <th>199</th>\n",
       "      <td>1.3821</td>\n",
       "      <td>0.2764</td>\n",
       "      <td>2.6892</td>\n",
       "      <td>0.5378</td>\n",
       "    </tr>\n",
       "  </tbody>\n",
       "</table>\n",
       "<p>200 rows × 4 columns</p>\n",
       "</div>"
      ],
      "text/plain": [
       "          loss  mean_squared_error  val_loss  val_mean_squared_error\n",
       "0    1197.9303            239.5861  680.5645                136.1129\n",
       "1    1083.3583            216.6717  796.6331                159.3266\n",
       "2    1026.8110            205.3622  830.0639                166.0128\n",
       "3     996.2346            199.2469  859.6060                171.9212\n",
       "4     966.7678            193.3535  828.5682                165.7136\n",
       "..         ...                 ...       ...                     ...\n",
       "195     1.6390              0.3278    2.1377                  0.4275\n",
       "196     1.6043              0.3209    1.6392                  0.3278\n",
       "197     1.4607              0.2921    2.3751                  0.4750\n",
       "198     1.4640              0.2928    1.6385                  0.3277\n",
       "199     1.3821              0.2764    2.6892                  0.5378\n",
       "\n",
       "[200 rows x 4 columns]"
      ]
     },
     "execution_count": 29,
     "metadata": {},
     "output_type": "execute_result"
    }
   ],
   "source": [
    "# imports\n",
    "import pandas as pd\n",
    "import numpy as np\n",
    "import matplotlib.pyplot as plt\n",
    "import seaborn as sns\n",
    "import os\n",
    "import sys\n",
    "\n",
    "# load history.csv\n",
    "history = pd.read_csv('history.csv')\n",
    "assert not history.empty, \"history.csv is empty\"\n",
    "\n",
    "history"
   ]
  },
  {
   "cell_type": "code",
   "execution_count": 30,
   "metadata": {},
   "outputs": [
    {
     "data": {
      "image/png": "[encoded data removed]",
      "text/plain": [
       "<Figure size 800x500 with 2 Axes>"
      ]
     },
     "metadata": {},
     "output_type": "display_data"
    }
   ],
   "source": [
    "# Create subplots\n",
    "fig, axes = plt.subplots(1, 2, figsize=(8, 5))\n",
    "\n",
    "# First plot: Lineplot\n",
    "sns.lineplot(data=history, ax=axes[0], dashes=False)\n",
    "axes[0].set_title('Training History')\n",
    "axes[0].set_xlabel('Epoch')\n",
    "axes[0].set_ylabel('Value')\n",
    "axes[0].legend(title='Metrics')\n",
    "axes[0].grid()\n",
    "\n",
    "# Second plot: Logarithmic scale lineplot\n",
    "sns.lineplot(data=history, ax=axes[1], dashes=False)\n",
    "axes[1].set_title('Training History (Log Scale)')\n",
    "axes[1].set_xlabel('Epoch')\n",
    "axes[1].set_ylabel('Value (Log Scale)')\n",
    "axes[1].set_yscale('log')\n",
    "axes[1].grid(which='both', linewidth=0.5)\n",
    "\n",
    "# # Add a trend line after epoch 75\n",
    "# for i in range(1, len(history.columns)):\n",
    "#     if history.columns[i] != 'epoch':\n",
    "#         # Fit a model to the data after epoch 75\n",
    "#         x = np.arange(75, len(history))\n",
    "#         y = history.iloc[75:, i]\n",
    "#         coeffs = np.polyfit(x, y, 1)\n",
    "#         trendline = np.polyval(coeffs, x)\n",
    "        \n",
    "#         # Plot the trendline\n",
    "#         axes[1].plot(x, trendline, label=f'Trend {history.columns[i]}')\n",
    "\n",
    "# Add a legend to the second plot\n",
    "axes[1].legend(title='Metrics')\n",
    "\n",
    "# Adjust layout and save\n",
    "plt.tight_layout()\n",
    "plt.savefig('history_combined_plot.png', dpi=800)\n",
    "plt.show()\n"
   ]
  }
 ],
 "metadata": {
  "kernelspec": {
   "display_name": "tf-wsl",
   "language": "python",
   "name": "python3"
  },
  "language_info": {
   "codemirror_mode": {
    "name": "ipython",
    "version": 3
   },
   "file_extension": ".py",
   "mimetype": "text/x-python",
   "name": "python",
   "nbconvert_exporter": "python",
   "pygments_lexer": "ipython3",
   "version": "3.9.21"
  }
 },
 "nbformat": 4,
 "nbformat_minor": 2
}
